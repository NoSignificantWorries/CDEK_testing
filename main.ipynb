{
 "cells": [
  {
   "cell_type": "markdown",
   "id": "c5c49700",
   "metadata": {},
   "source": [
    "# Тестовое для СДЕК летней стажировки\n",
    "\n",
    "Задача:\n",
    "Предсказать цену (price) на аренду жилья, используя не только табличные данные, но и координаты.\n",
    "\n",
    "Сслыка: https://www.kaggle.com/datasets/dgomonov/new-york-city-airbnb-open-data/data"
   ]
  },
  {
   "cell_type": "code",
   "execution_count": 1,
   "id": "f4e6d89e",
   "metadata": {},
   "outputs": [
    {
     "name": "stdout",
     "output_type": "stream",
     "text": [
      "Total rows: 48895\n",
      "Total columns: 16\n"
     ]
    }
   ],
   "source": [
    "import os\n",
    "\n",
    "import numpy as np\n",
    "import pandas as pd\n",
    "\n",
    "df = pd.read_csv(\"data/AB_NYC_2019.csv\")\n",
    "\n",
    "rows, cols = df.shape\n",
    "\n",
    "print(f\"Total rows: {rows}\")\n",
    "print(f\"Total columns: {cols}\")"
   ]
  },
  {
   "cell_type": "markdown",
   "id": "80ad903c",
   "metadata": {},
   "source": []
  },
  {
   "cell_type": "code",
   "execution_count": 2,
   "id": "ccf61244",
   "metadata": {},
   "outputs": [
    {
     "name": "stdout",
     "output_type": "stream",
     "text": [
      "Index(['id', 'name', 'host_id', 'host_name', 'neighbourhood_group',\n",
      "       'neighbourhood', 'latitude', 'longitude', 'room_type', 'price',\n",
      "       'minimum_nights', 'number_of_reviews', 'last_review',\n",
      "       'reviews_per_month', 'calculated_host_listings_count',\n",
      "       'availability_365'],\n",
      "      dtype='object')\n"
     ]
    }
   ],
   "source": [
    "print(df.columns)"
   ]
  }
 ],
 "metadata": {
  "kernelspec": {
   "display_name": "data",
   "language": "python",
   "name": "python3"
  },
  "language_info": {
   "codemirror_mode": {
    "name": "ipython",
    "version": 3
   },
   "file_extension": ".py",
   "mimetype": "text/x-python",
   "name": "python",
   "nbconvert_exporter": "python",
   "pygments_lexer": "ipython3",
   "version": "3.12.9"
  }
 },
 "nbformat": 4,
 "nbformat_minor": 5
}
