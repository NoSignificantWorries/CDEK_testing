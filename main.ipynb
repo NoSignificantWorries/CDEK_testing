{
 "cells": [
  {
   "cell_type": "markdown",
   "id": "c5c49700",
   "metadata": {},
   "source": [
    "# Тестовое для СДЕК летней стажировки\n",
    "\n",
    "Задача:\n",
    "Предсказать цену (price) на аренду жилья, используя не только табличные данные, но и координаты.\n",
    "\n",
    "Сслыка: https://www.kaggle.com/datasets/dgomonov/new-york-city-airbnb-open-data/data"
   ]
  },
  {
   "cell_type": "code",
   "execution_count": 200,
   "id": "f4e6d89e",
   "metadata": {},
   "outputs": [
    {
     "name": "stdout",
     "output_type": "stream",
     "text": [
      "Total rows: 48895\n",
      "Total columns: 16\n"
     ]
    }
   ],
   "source": [
    "import os\n",
    "\n",
    "import numpy as np\n",
    "import pandas as pd\n",
    "import matplotlib.pyplot as plt\n",
    "import datetime as dt\n",
    "\n",
    "df = pd.read_csv(\"data/AB_NYC_2019.csv\")\n",
    "\n",
    "rows, cols = df.shape\n",
    "\n",
    "print(f\"Total rows: {rows}\")\n",
    "print(f\"Total columns: {cols}\")"
   ]
  },
  {
   "cell_type": "code",
   "execution_count": 201,
   "id": "ccf61244",
   "metadata": {},
   "outputs": [
    {
     "name": "stdout",
     "output_type": "stream",
     "text": [
      "Index(['id', 'name', 'host_id', 'host_name', 'neighbourhood_group',\n",
      "       'neighbourhood', 'latitude', 'longitude', 'room_type', 'price',\n",
      "       'minimum_nights', 'number_of_reviews', 'last_review',\n",
      "       'reviews_per_month', 'calculated_host_listings_count',\n",
      "       'availability_365'],\n",
      "      dtype='object')\n"
     ]
    }
   ],
   "source": [
    "print(df.columns)"
   ]
  },
  {
   "cell_type": "markdown",
   "id": "80ad903c",
   "metadata": {},
   "source": [
    "Колонки для анализа:\n",
    "- __host_id__ - уникальные id владельца (заменим им host_name)\n",
    "- __neighbourhood_group__ - боро, где расположено помещение (боро (borough) - горада Нью-Йорка, основная административная единица)\n",
    "- __neighbourhood__ - районы внутри боро\n",
    "- __root_type__ - тип помещения\n",
    "- __minimum_nights__ - минимальное количество ночей для аренды помещения\n",
    "- __number_of_reviews__ - общее количество отзывов\n",
    "- __last_review__ - дата последнего отзыва\n",
    "- __reviews_per_month__ - срднее количество отзывов за месяц\n",
    "- __calculated_host_listings_count__ - количество объявлений от хозяина\n",
    "- __availability_365__ - количество дней в году, когда жильё доступно\n",
    " Остальные колонки будут отброшены."
   ]
  },
  {
   "cell_type": "code",
   "execution_count": 202,
   "id": "a8117621",
   "metadata": {},
   "outputs": [
    {
     "name": "stdout",
     "output_type": "stream",
     "text": [
      "Index(['host_id', 'neighbourhood_group', 'neighbourhood', 'latitude',\n",
      "       'longitude', 'room_type', 'price', 'minimum_nights',\n",
      "       'number_of_reviews', 'last_review', 'reviews_per_month',\n",
      "       'calculated_host_listings_count', 'availability_365'],\n",
      "      dtype='object')\n"
     ]
    }
   ],
   "source": [
    "# удаляем ненужные колонки\n",
    "df = df.drop([\"id\", \"name\", \"host_name\"], axis=1)\n",
    "\n",
    "print(df.columns)"
   ]
  },
  {
   "cell_type": "code",
   "execution_count": 203,
   "id": "6eb9d93b",
   "metadata": {},
   "outputs": [],
   "source": [
    "ids, indexes = np.unique(df[\"host_id\"], return_index=True)\n",
    "mappings = dict(zip(ids, indexes))\n",
    "\n",
    "df[\"host_id\"] = df[\"host_id\"].map(mappings)\n",
    "df[\"host_id\"] /= df[\"host_id\"].max()"
   ]
  },
  {
   "cell_type": "code",
   "execution_count": 204,
   "id": "c5874ee4",
   "metadata": {},
   "outputs": [],
   "source": [
    "mask = (0 <= df[\"availability_365\"]) & (df[\"availability_365\"] <= 365)\n",
    "df = df[mask]\n",
    "df[\"availability_365\"] /= 365"
   ]
  },
  {
   "cell_type": "code",
   "execution_count": 205,
   "id": "1b5ce78b",
   "metadata": {},
   "outputs": [],
   "source": [
    "labels_to_one_hot = [\"neighbourhood_group\", \"neighbourhood\", \"room_type\"]\n",
    "for label in labels_to_one_hot:\n",
    "    one_hot = pd.get_dummies(df[label], dtype=np.float32)\n",
    "    df = df.join(one_hot)\n",
    "df = df.drop(labels_to_one_hot, axis=1)"
   ]
  },
  {
   "cell_type": "code",
   "execution_count": null,
   "id": "a7e8992d",
   "metadata": {},
   "outputs": [
    {
     "name": "stdout",
     "output_type": "stream",
     "text": [
      "0        0.086640\n",
      "1        0.015873\n",
      "2        1.000000\n",
      "3        0.000992\n",
      "4        0.076389\n",
      "           ...   \n",
      "48890    1.000000\n",
      "48891    1.000000\n",
      "48892    1.000000\n",
      "48893    1.000000\n",
      "48894    1.000000\n",
      "Name: last_review, Length: 48895, dtype: float64\n"
     ]
    }
   ],
   "source": [
    "df[\"reviews_per_month\"] = df[\"reviews_per_month\"].fillna(0)\n",
    "\n",
    "min_date = pd.to_datetime(df[\"last_review\"]).min()\n",
    "df[\"last_review\"] = pd.to_datetime(df[\"last_review\"].fillna(min_date))\n",
    "df[\"last_review\"] = df[\"last_review\"].max() - df[\"last_review\"]\n",
    "df[\"last_review\"] = df[\"last_review\"].apply((lambda date: date.days))\n",
    "df[\"last_review\"] /= df[\"last_review\"].max()"
   ]
  },
  {
   "cell_type": "code",
   "execution_count": 207,
   "id": "00901ac0",
   "metadata": {},
   "outputs": [],
   "source": [
    "for label in [\"minimum_nights\", \"reviews_per_month\", \"calculated_host_listings_count\"]:\n",
    "    mask = df[label] >= 0\n",
    "    df = df[mask]\n",
    "    df[label] /= df[label].max()"
   ]
  },
  {
   "cell_type": "code",
   "execution_count": null,
   "id": "1d2a41b6",
   "metadata": {},
   "outputs": [],
   "source": [
    "df.to_csv('normalized.csv', index=False)"
   ]
  }
 ],
 "metadata": {
  "kernelspec": {
   "display_name": "data",
   "language": "python",
   "name": "python3"
  },
  "language_info": {
   "codemirror_mode": {
    "name": "ipython",
    "version": 3
   },
   "file_extension": ".py",
   "mimetype": "text/x-python",
   "name": "python",
   "nbconvert_exporter": "python",
   "pygments_lexer": "ipython3",
   "version": "3.12.9"
  }
 },
 "nbformat": 4,
 "nbformat_minor": 5
}
